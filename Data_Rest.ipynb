{
 "cells": [
  {
   "cell_type": "code",
   "execution_count": 7,
   "id": "63a2a191-336d-41a9-b2b0-a689adab3f93",
   "metadata": {},
   "outputs": [
    {
     "name": "stdout",
     "output_type": "stream",
     "text": [
      "Encrypted result: {'temperature': b'gAAAAABlnDUACrNuc6wldxigaUCt-RxSmoddVoIXLeuWmB8VBR9Bds3AyhdqoNjlhcluoEr-oebOjNNCxEt9_JG8Xwf7eA25rg==', 'heartbeat': b'gAAAAABlnDUAs0NCPlzJCAn66JdPvmxNAQXXkYbs-PIDgd3ZJBG_amVz2UJsNZ43FVzhsiFveNiMcDNc1SpqRMG2mEqnDfC4VA==', 'blood_pressure': b'gAAAAABlnDUAo5xdK65u3Cv-2gFfU5JVRDuSXEEeRRZTLnjRYezrLRXb82SQjl9yDPsTyW745ZVJrgh18S3aEGb6Pxwb7ms0_w=='}\n",
      "Decrypted result: {'temperature': '36.7', 'heartbeat': '78', 'blood_pressure': '120/80'}\n"
     ]
    }
   ],
   "source": [
    "from cryptography.fernet import Fernet\n",
    "\n",
    "# Step 1: Generate an encryption key. Normally you would store this securely.\n",
    "def generate_key():\n",
    "    return Fernet.generate_key()\n",
    "\n",
    "# Step 2: Encrypt the message\n",
    "def encrypt_message(message, key):\n",
    "    f = Fernet(key)\n",
    "    encrypted_message = f.encrypt(message.encode())\n",
    "    return encrypted_message\n",
    "\n",
    "# Step 3: Decrypt the message\n",
    "def decrypt_message(encrypted_message, key):\n",
    "    f = Fernet(key)\n",
    "    decrypted_message = f.decrypt(encrypted_message)\n",
    "    return decrypted_message.decode()\n",
    "\n",
    "# Simulated health data\n",
    "health_data = {\n",
    "    \"temperature\": \"36.7\",  # in Celsius\n",
    "    \"heartbeat\": \"78\",      # beats per minute\n",
    "    \"blood_pressure\": \"120/80\"  # systolic/diastolic\n",
    "}\n",
    "\n",
    "# Encrypt the health data\n",
    "key = generate_key()  # Keep this key secure\n",
    "encrypted_health_data = {k: encrypt_message(v, key) for k, v in health_data.items()}\n",
    "# Decrypt the health data to verify\n",
    "decrypted_health_data = {k: decrypt_message(v, key) for k, v in encrypted_health_data.items()}\n",
    "\n",
    "print(\"\")\n",
    "print(\"Encrypted result:\", encrypted_health_data)\n",
    "print(\"Decrypted result:\", decrypted_health_data)"
   ]
  },
  {
   "cell_type": "code",
   "execution_count": null,
   "id": "bb72fd39-497f-4e6e-b5e8-3728fe4b1c57",
   "metadata": {},
   "outputs": [],
   "source": []
  }
 ],
 "metadata": {
  "kernelspec": {
   "display_name": "Python 3 (ipykernel)",
   "language": "python",
   "name": "python3"
  },
  "language_info": {
   "codemirror_mode": {
    "name": "ipython",
    "version": 3
   },
   "file_extension": ".py",
   "mimetype": "text/x-python",
   "name": "python",
   "nbconvert_exporter": "python",
   "pygments_lexer": "ipython3",
   "version": "3.12.0"
  }
 },
 "nbformat": 4,
 "nbformat_minor": 5
}
